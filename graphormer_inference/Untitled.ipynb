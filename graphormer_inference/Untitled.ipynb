{
 "cells": [
  {
   "cell_type": "code",
   "execution_count": null,
   "id": "65b95942-54df-4b3b-b186-0ffdd4b2574a",
   "metadata": {},
   "outputs": [],
   "source": [
    "from data_class import single_geo_Abakan\n",
    "import pandas as pd\n",
    "import json\n",
    "\n",
    "import pathlib\n",
    "link = pathlib.Path().resolve()\n",
    "link = str(link).split('TransTTE')[0]\n",
    "GLOBAL_ROOT = link + 'TransTTE'\n",
    "\n",
    "sys.path.insert(2, GLOBAL_ROOT + '/graphormer_repo/graphormer')\n",
    "from data.wrapper import preprocess_item"
   ]
  },
  {
   "cell_type": "code",
   "execution_count": null,
   "id": "db4f4497-21c1-4068-82c1-2689228bbbbe",
   "metadata": {},
   "outputs": [],
   "source": []
  },
  {
   "cell_type": "code",
   "execution_count": null,
   "id": "8f3481e2-2bc8-4f43-a34d-d73088b6a928",
   "metadata": {},
   "outputs": [],
   "source": [
    "def graphormer_predict(pt_start, pt_end, dataset_name)\n",
    "    convert_table_valid = pd.read_csv('convert_roads_valid.csv').dropna()\n",
    "    convert_table_valid['edge_coord_start'] = convert_table_valid['edge_coord_start'].apply(lambda x: json.loads(x))\n",
    "    convert_table_valid['edge_coord_end'] = convert_table_valid['edge_coord_end'].apply(lambda x: json.loads(x))\n",
    "\n",
    "    point_start = pt_start\n",
    "    point_end = pt_end\n",
    "\n",
    "    convert_table_valid['point_start_N'] = point_start[0]\n",
    "    convert_table_valid['point_start_E'] = point_start[1]\n",
    "    convert_table_valid['point_end_N'] = point_end[0]\n",
    "    convert_table_valid['point_end_E'] = point_end[1]\n",
    "\n",
    "    convert_table_valid['dist_start'] = convert_table_valid.apply(lambda x: (x['edge_coord_start'][0][0] - x['point_start_N'])**2 + (x['edge_coord_start'][0][1] - x['point_start_E'])**2, axis = 1)\n",
    "    convert_table_valid['dist_end'] = convert_table_valid.apply(lambda x: (x['edge_coord_end'][0][0] - x['point_end_N'])**2 + (x['edge_coord_end'][0][1] - x['point_end_E'])**2, axis = 1)\n",
    "    convert_table_valid['dist_mean'] = (convert_table_valid['dist_start'] + convert_table_valid['dist_end'])/2\n",
    "\n",
    "    predict_table = convert_table_valid.sort_values(by = ['dist_mean']).reset_index(drop = True)[:1]\n",
    "\n",
    "    dataset = single_geo_Abakan(predict_table)\n",
    "    dataset = dataset.process()\n",
    "\n",
    "    predicted_time = predict_time(dataset_name, dataset)\n",
    "\n",
    "    return [predict_table['edges_geo'], predicted_time]"
   ]
  }
 ],
 "metadata": {
  "kernelspec": {
   "display_name": "Python 3 (ipykernel)",
   "language": "python",
   "name": "python3"
  },
  "language_info": {
   "codemirror_mode": {
    "name": "ipython",
    "version": 3
   },
   "file_extension": ".py",
   "mimetype": "text/x-python",
   "name": "python",
   "nbconvert_exporter": "python",
   "pygments_lexer": "ipython3",
   "version": "3.7.12"
  }
 },
 "nbformat": 4,
 "nbformat_minor": 5
}
