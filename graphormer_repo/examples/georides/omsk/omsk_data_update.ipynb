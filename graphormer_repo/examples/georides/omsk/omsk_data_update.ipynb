{
 "cells": [
  {
   "cell_type": "code",
   "execution_count": 144,
   "id": "a7b52a7d-974c-4bca-a9de-f57ae06f508f",
   "metadata": {},
   "outputs": [],
   "source": [
    "import sys\n",
    "import os\n",
    "sys.path.insert(1, '/home/jovyan/graphormer_v2/')\n",
    "\n",
    "import torch\n",
    "import numpy as np\n",
    "import torch_geometric.datasets\n",
    "from ogb.graphproppred import PygGraphPropPredDataset\n",
    "from ogb.lsc.pcqm4m_pyg import PygPCQM4MDataset\n",
    "import pyximport\n",
    "from torch_geometric.data import InMemoryDataset, download_url\n",
    "import pandas as pd\n",
    "from sklearn import preprocessing\n",
    "\n",
    "pyximport.install(setup_args={'include_dirs': np.get_include()})\n",
    "import os.path as osp\n",
    "from torch_geometric.data import Data\n",
    "import time\n",
    "\n",
    "from torch_geometric.utils import add_self_loops, negative_sampling\n",
    "from graphormer.data.wrapper import preprocess_item\n",
    "from torch_geometric.data import Dataset"
   ]
  },
  {
   "cell_type": "code",
   "execution_count": 157,
   "id": "21fe4b22-a62f-4799-a543-7657c834ecf7",
   "metadata": {},
   "outputs": [],
   "source": [
    "class geo_Omsk(Dataset):\n",
    "    \n",
    "    def __init__(self, root, transform=None, pre_transform=None, split = 'train'):\n",
    "        super(geo_Omsk, self).__init__(root, transform, pre_transform, split)\n",
    "        self.split = split\n",
    "        if '_upd' not in root:\n",
    "            self.data, self.slices = torch.load(self.processed_dir + '/' + f'{split}.pt')\n",
    "        # self.data = torch.load(self.processed_dir + '/' + f'{split}.pt')\n",
    "#         self.raw_dir = '/home/jovyan/'\n",
    "        \n",
    "    @property\n",
    "    def raw_dir(self) -> str:\n",
    "        return '/home/jovyan/tte_data/'\n",
    "    \n",
    "    \n",
    "    @property\n",
    "    def raw_file_names(self):\n",
    "        return ['omsk_full_routes_final_weather_L_NaN_filtered_FIXED.csv']\n",
    "\n",
    "    @property\n",
    "    def processed_file_names(self):\n",
    "        return ['train.pt', 'test.pt', 'val.pt']\n",
    "    \n",
    "    @property\n",
    "    def processed_dir(self):\n",
    "        return osp.join(self.root)\n",
    "\n",
    "    # def download(self):\n",
    "    #     path = download_url(self.url, self.raw_dir)\n",
    "    #     print(self.processed_paths[0])\n",
    "    \n",
    "    \n",
    "#     def process(self):\n",
    "#         # Read data\n",
    "#         start_time = time.time()\n",
    "#         data = pd.read_csv(osp.join('/home/jovyan/tte_data/', 'omsk_full_routes_final_weather_L_NaN_filtered_FIXED.csv'))\n",
    "#         data = data[data['rebuildCount']<=1].reset_index(drop = True).copy()\n",
    "#         shape = int(data.shape[0])\n",
    "#         data = data[0:shape].copy()\n",
    "\n",
    "#         data = data.drop(columns = ['Unnamed: 0'])\n",
    "#         data['hour'] = data['start_timestamp'].apply(lambda x: int(x[-10:-8]))\n",
    "#         # Graph \n",
    "#         graph_columns_gran = ['edges', 'time', 'speed', 'length']\n",
    "#         edges = ['edges']\n",
    "#         target = ['time']\n",
    "#         node_features_gran = ['speed', 'length']\n",
    "\n",
    "#         edge_features_agg = [' start_point_part', 'finish_point_part', 'day_period', 'week_period', 'clouds', 'snow', 'temperature', 'wind_dir', 'wind_speed', 'pressure','hour']\n",
    "\n",
    "\n",
    "#         all_speed = []\n",
    "#         all_length = []\n",
    "#         for i in range(0,shape):\n",
    "#             data_row = data[i:i+1].reset_index(drop = True).copy()\n",
    "#             speed_list = [int(x) for x in (data_row['speed'].values[0].replace(\"'\",'').split(','))]\n",
    "#             list_length = [int(x) for x in (data_row['length'].values[0].replace(\"'\",'').split(','))]\n",
    "#             all_speed.append(speed_list)\n",
    "#             all_length.append(list_length)\n",
    "\n",
    "#         all_speed = [item for sublist in all_speed for item in sublist]\n",
    "#         all_length = [item for sublist in all_length for item in sublist]\n",
    "\n",
    "#         train_size = 0.8\n",
    "#         test_size = 0.1\n",
    "#         val_size = 0.1\n",
    "\n",
    "#         data_split_dict = dict()\n",
    "#         data_split_dict['train'] = np.arange(0, int(data.shape[0]*train_size))\n",
    "#         data_split_dict['test'] = np.arange(int(data.shape[0]*train_size), int(data.shape[0]*(train_size+test_size)))\n",
    "#         data_split_dict['val'] = np.arange(int(data.shape[0]*(train_size + test_size)),int((data.shape[0]*(train_size+test_size + val_size))))\n",
    "\n",
    "#         for split in data_split_dict.keys():\n",
    "#             data_list = []\n",
    "#             for i in data_split_dict[split]:\n",
    "#                 data_row = data.iloc[[i],].reset_index(drop = True).copy()\n",
    "\n",
    "#                 edge_list = [int(x) for x in (data_row['edges'].values[0].replace(\"'\",'').split(','))]\n",
    "#                 speed_list = [int(x) for x in (data_row['speed'].values[0].replace(\"'\",'').split(','))]\n",
    "#                 list_length = [int(x) for x in (data_row['length'].values[0].replace(\"'\",'').split(','))]\n",
    "\n",
    "#                 source = edge_list.copy()\n",
    "#                 target = edge_list[1:].copy() + [edge_list[0]].copy()\n",
    "\n",
    "#                 data_row_gran = pd.DataFrame()\n",
    "#                 data_row_gran['source'] = source\n",
    "#                 data_row_gran['target'] = target\n",
    "#                 data_row_gran['speed'] = speed_list\n",
    "#                 data_row_gran['length'] = list_length\n",
    "\n",
    "\n",
    "#                 target_val = data_row['RTA'].values[0]\n",
    "\n",
    "\n",
    "#                 data_row_gran['speed'] = data_row_gran['speed']/np.mean(speed_list)\n",
    "#                 data_row_gran['length'] = data_row_gran['length']/np.mean(list_length)\n",
    "\n",
    "#                 for col in edge_features_agg:\n",
    "#                     data_row_gran[col] = data_row[col].values[0]\n",
    "\n",
    "#                 total_nodes_list = list(set(list(data_row_gran.source.values)))\n",
    "#                 le = preprocessing.LabelEncoder()\n",
    "#                 le.fit(total_nodes_list)\n",
    "\n",
    "#                 data_row_gran['source'] = le.transform(data_row_gran.source.values)\n",
    "#                 data_row_gran['target'] = le.transform(data_row_gran.target.values)\n",
    "\n",
    "#                 total_nodes_list = list(set(list(data_row_gran.source.values)))\n",
    "\n",
    "#                 edge_index = torch.tensor(torch.from_numpy(data_row_gran[['source','target']].values.T),dtype = torch.long)\n",
    "\n",
    "\n",
    "#                 # Define tensor of nodes features\n",
    "#                 x = torch.tensor(torch.from_numpy(data_row_gran[['speed','length'] + edge_features_agg].values),dtype = torch.long)\n",
    "\n",
    "#                 # Define tensor of edge features\n",
    "\n",
    "#                 # Define tensor of edge features\n",
    "#                 edge_num_feach = 1\n",
    "#                 edge_attr = torch.from_numpy(np.ones(shape = ((edge_index.size()[1]), edge_num_feach)))\n",
    "#                 edge_attr = torch.tensor(edge_attr,dtype = torch.long)\n",
    "\n",
    "#                 # Define tensor of targets\n",
    "#                 y = torch.tensor(target_val,dtype = torch.long)\n",
    "\n",
    "\n",
    "#                 data_graph = Data(x=x, edge_index = edge_index, edge_attr = edge_attr, y=y)\n",
    "#                 data_list.append(data_graph)\n",
    "#             torch.save(data_list, osp.join(self.processed_dir, f'{split}.pt'))\n",
    "\n",
    "    \n",
    "    def get(self, idx):\n",
    "        data = torch.load(osp.join(self.processed_dir, f'{self.split}.pt'))\n",
    "        return data[idx]\n"
   ]
  },
  {
   "cell_type": "code",
   "execution_count": 161,
   "id": "0f75abd0-f065-48a1-af45-fbd2b1d6339f",
   "metadata": {},
   "outputs": [
    {
     "data": {
      "text/plain": [
       "Data(attn_bias=[73, 73], attn_edge_type=[72, 72, 1], edge_attr=[72, 1], edge_index=[2, 72], edge_input=[72, 72, 71, 1], in_degree=[72], out_degree=[72], spatial_pos=[72, 72], x=[72, 13], y=[1])"
      ]
     },
     "execution_count": 161,
     "metadata": {},
     "output_type": "execute_result"
    }
   ],
   "source": [
    "update_dir = osp.join(root, 'processed', 'data_omsk_1_upd')\n",
    "geo_Omsk(update_dir,split = 'train').get(1)"
   ]
  },
  {
   "cell_type": "code",
   "execution_count": 147,
   "id": "3d09b903-b083-493b-8b1a-8dc378815180",
   "metadata": {},
   "outputs": [
    {
     "ename": "TypeError",
     "evalue": "get() missing 1 required positional argument: 'idx'",
     "output_type": "error",
     "traceback": [
      "\u001b[0;31m---------------------------------------------------------------------------\u001b[0m",
      "\u001b[0;31mTypeError\u001b[0m                                 Traceback (most recent call last)",
      "\u001b[0;32m/tmp/ipykernel_32301/1184865480.py\u001b[0m in \u001b[0;36m<module>\u001b[0;34m\u001b[0m\n\u001b[0;32m----> 1\u001b[0;31m \u001b[0mgeo_Omsk\u001b[0m\u001b[0;34m.\u001b[0m\u001b[0mget\u001b[0m\u001b[0;34m(\u001b[0m\u001b[0;34m'train'\u001b[0m\u001b[0;34m)\u001b[0m\u001b[0;34m\u001b[0m\u001b[0;34m\u001b[0m\u001b[0m\n\u001b[0m",
      "\u001b[0;31mTypeError\u001b[0m: get() missing 1 required positional argument: 'idx'"
     ]
    }
   ],
   "source": [
    "geo_Omsk.get('train')"
   ]
  },
  {
   "cell_type": "code",
   "execution_count": null,
   "id": "9e7504da-1fd9-4729-83ef-9b26fa7e82d1",
   "metadata": {},
   "outputs": [],
   "source": []
  },
  {
   "cell_type": "code",
   "execution_count": 105,
   "id": "5e5ebdc5-2cef-4b41-838d-548419afcc82",
   "metadata": {},
   "outputs": [],
   "source": [
    "def update_data_split(raw_data, update_dir, split):\n",
    "    graph_count = len(raw_data)\n",
    "    upd_list = list()\n",
    "    for i in range(0, 10):\n",
    "        if i%100 == 0:\n",
    "            print(i)\n",
    "        graph = preprocess_item(raw_data[i])\n",
    "        upd_list.append(graph)\n",
    "    if not os.path.exists(update_dir):\n",
    "        os.makedirs(update_dir)\n",
    "    torch.save(upd_list, osp.join(update_dir, f'{split}.pt'))\n",
    "    \n",
    "def update_data(raw_dir, update_dir):\n",
    "    for split in ['train', 'test', 'val']:\n",
    "        raw_data = geo_Omsk(raw_dir, split = split)\n",
    "        update_data_split(raw_data, update_dir, split)\n",
    "        \n",
    "root = osp.join('dataset', 'omsk')\n",
    "raw_dir = osp.join(root, 'processed', 'data_omsk_1')\n",
    "update_dir = osp.join(root, 'processed', 'data_omsk_1_upd')\n",
    "update_data(raw_dir, update_dir)"
   ]
  },
  {
   "cell_type": "code",
   "execution_count": 106,
   "id": "e447cd59-1ff0-426d-8833-e3b1c257504e",
   "metadata": {},
   "outputs": [],
   "source": [
    "def update_data(raw_dir, update_dir):\n",
    "    for split in ['train', 'test', 'val']:\n",
    "        raw_data = geo_Omsk(raw_dir, split = split)\n",
    "        update_data_split(raw_data, update_dir, split)"
   ]
  },
  {
   "cell_type": "code",
   "execution_count": 108,
   "id": "026fa85a-1d64-4692-b2ab-7f864f742dbd",
   "metadata": {},
   "outputs": [
    {
     "name": "stdout",
     "output_type": "stream",
     "text": [
      "0\n",
      "0\n",
      "0\n"
     ]
    }
   ],
   "source": [
    "root = osp.join('dataset', 'omsk')\n",
    "raw_dir = osp.join(root, 'processed', 'data_omsk_1')\n",
    "update_dir = osp.join(root, 'processed', 'data_omsk_1_upd')\n",
    "update_data(raw_dir, update_dir)"
   ]
  },
  {
   "cell_type": "code",
   "execution_count": null,
   "id": "8d7a2af5-b3f6-4beb-8514-68cde756ccd2",
   "metadata": {},
   "outputs": [],
   "source": []
  },
  {
   "cell_type": "code",
   "execution_count": 89,
   "id": "972ac3e8-6062-4f31-bfa9-8a86c29de9ff",
   "metadata": {},
   "outputs": [],
   "source": [
    "root = osp.join('dataset', 'omsk')\n",
    "raw_dir = osp.join(root, 'processed', 'data_omsk_1')\n",
    "update_dir = osp.join(root, 'processed', 'data_omsk_1_upd')\n",
    "update_data(raw_dir, update_dir)"
   ]
  },
  {
   "cell_type": "code",
   "execution_count": 90,
   "id": "38d6552e-7d92-4be5-88d8-996229215a62",
   "metadata": {},
   "outputs": [
    {
     "data": {
      "text/plain": [
       "Data(edge_attr=[24401141, 1], edge_index=[2, 24401141], x=[24401141, 13], y=[431406])"
      ]
     },
     "execution_count": 90,
     "metadata": {},
     "output_type": "execute_result"
    }
   ],
   "source": [
    "a.load_raw_data(split = 'train')"
   ]
  },
  {
   "cell_type": "code",
   "execution_count": 96,
   "id": "04a3dff7-3a65-41d7-ab71-01b2a6a870a4",
   "metadata": {},
   "outputs": [
    {
     "data": {
      "text/plain": [
       "'dataset/omsk/lolo'"
      ]
     },
     "execution_count": 96,
     "metadata": {},
     "output_type": "execute_result"
    }
   ],
   "source": [
    "osp.join(osp.join('dataset', 'omsk'), 'lolo')"
   ]
  },
  {
   "cell_type": "code",
   "execution_count": null,
   "id": "072ca6cc-7fdb-41d6-aa49-15045f6492ee",
   "metadata": {},
   "outputs": [],
   "source": []
  },
  {
   "cell_type": "code",
   "execution_count": 70,
   "id": "baf283f1-a9f8-4563-b702-571e7ea7e473",
   "metadata": {},
   "outputs": [],
   "source": [
    "class geo_Omsk_2(InMemoryDataset):\n",
    "   \n",
    "    @property\n",
    "    def processed_dir(self, update = False):\n",
    "        return osp.join(self.root, 'processed', 'data_omsk_1')\n",
    "        \n",
    "    def __init__(self, root, transform=None, pre_transform=None, split = 'train', update = False):\n",
    "        super(geo_Omsk_2, self).__init__(root, transform, pre_transform)\n",
    "        self.data, self.slices = torch.load(self.processed_dir + '/' + f'{split}.pt')\n",
    "        self.update = update\n",
    "        print(self.update)\n",
    "        \n"
   ]
  },
  {
   "cell_type": "code",
   "execution_count": 68,
   "id": "a0a9c5fa-4211-46ff-a991-a26a52645ccd",
   "metadata": {},
   "outputs": [
    {
     "name": "stdout",
     "output_type": "stream",
     "text": [
      "loloo\n",
      "True\n"
     ]
    }
   ],
   "source": [
    "a = geo_Omsk_2(root, split = 'train', update = True)"
   ]
  },
  {
   "cell_type": "code",
   "execution_count": 66,
   "id": "b2b65d22-8d10-42c3-9edb-3b928a658325",
   "metadata": {},
   "outputs": [
    {
     "data": {
      "text/plain": [
       "geo_Omsk_2(431406)"
      ]
     },
     "execution_count": 66,
     "metadata": {},
     "output_type": "execute_result"
    }
   ],
   "source": [
    "a"
   ]
  },
  {
   "cell_type": "code",
   "execution_count": 36,
   "id": "a5927266-de0f-4883-af71-bc1558e67914",
   "metadata": {},
   "outputs": [
    {
     "ename": "TypeError",
     "evalue": "__init__() takes from 1 to 5 positional arguments but 6 were given",
     "output_type": "error",
     "traceback": [
      "\u001b[0;31m---------------------------------------------------------------------------\u001b[0m",
      "\u001b[0;31mTypeError\u001b[0m                                 Traceback (most recent call last)",
      "\u001b[0;32m/tmp/ipykernel_32301/1505332735.py\u001b[0m in \u001b[0;36m<module>\u001b[0;34m\u001b[0m\n\u001b[1;32m      1\u001b[0m \u001b[0mroot\u001b[0m \u001b[0;34m=\u001b[0m \u001b[0;34m\"dataset/\"\u001b[0m \u001b[0;34m+\u001b[0m \u001b[0;34m'omsk'\u001b[0m\u001b[0;34m\u001b[0m\u001b[0;34m\u001b[0m\u001b[0m\n\u001b[0;32m----> 2\u001b[0;31m \u001b[0mdata_train_raw\u001b[0m \u001b[0;34m=\u001b[0m \u001b[0mgeo_Omsk\u001b[0m\u001b[0;34m(\u001b[0m\u001b[0mroot\u001b[0m\u001b[0;34m,\u001b[0m \u001b[0msplit\u001b[0m \u001b[0;34m=\u001b[0m \u001b[0;34m'train'\u001b[0m\u001b[0;34m)\u001b[0m\u001b[0;34m\u001b[0m\u001b[0;34m\u001b[0m\u001b[0m\n\u001b[0m\u001b[1;32m      3\u001b[0m \u001b[0;31m# data_test_raw = geo_Omsk(root, split = 'test')\u001b[0m\u001b[0;34m\u001b[0m\u001b[0;34m\u001b[0m\u001b[0;34m\u001b[0m\u001b[0m\n\u001b[1;32m      4\u001b[0m \u001b[0;31m# data_valid_raw = geo_Omsk(root, split = 'val')\u001b[0m\u001b[0;34m\u001b[0m\u001b[0;34m\u001b[0m\u001b[0;34m\u001b[0m\u001b[0m\n",
      "\u001b[0;32m/tmp/ipykernel_32301/1868583558.py\u001b[0m in \u001b[0;36m__init__\u001b[0;34m(self, root, transform, pre_transform, split, update)\u001b[0m\n\u001b[1;32m      3\u001b[0m \u001b[0;34m\u001b[0m\u001b[0m\n\u001b[1;32m      4\u001b[0m     \u001b[0;32mdef\u001b[0m \u001b[0m__init__\u001b[0m\u001b[0;34m(\u001b[0m\u001b[0mself\u001b[0m\u001b[0;34m,\u001b[0m \u001b[0mroot\u001b[0m\u001b[0;34m,\u001b[0m \u001b[0mtransform\u001b[0m\u001b[0;34m=\u001b[0m\u001b[0;32mNone\u001b[0m\u001b[0;34m,\u001b[0m \u001b[0mpre_transform\u001b[0m\u001b[0;34m=\u001b[0m\u001b[0;32mNone\u001b[0m\u001b[0;34m,\u001b[0m \u001b[0msplit\u001b[0m \u001b[0;34m=\u001b[0m \u001b[0;34m'train'\u001b[0m\u001b[0;34m,\u001b[0m \u001b[0mupdate\u001b[0m \u001b[0;34m=\u001b[0m \u001b[0;32mFalse\u001b[0m\u001b[0;34m)\u001b[0m\u001b[0;34m:\u001b[0m\u001b[0;34m\u001b[0m\u001b[0;34m\u001b[0m\u001b[0m\n\u001b[0;32m----> 5\u001b[0;31m         \u001b[0msuper\u001b[0m\u001b[0;34m(\u001b[0m\u001b[0mgeo_Omsk\u001b[0m\u001b[0;34m,\u001b[0m \u001b[0mself\u001b[0m\u001b[0;34m)\u001b[0m\u001b[0;34m.\u001b[0m\u001b[0m__init__\u001b[0m\u001b[0;34m(\u001b[0m\u001b[0mroot\u001b[0m\u001b[0;34m,\u001b[0m \u001b[0mtransform\u001b[0m\u001b[0;34m,\u001b[0m \u001b[0mpre_transform\u001b[0m\u001b[0;34m,\u001b[0m \u001b[0msplit\u001b[0m\u001b[0;34m,\u001b[0m \u001b[0mupdate\u001b[0m\u001b[0;34m)\u001b[0m\u001b[0;34m\u001b[0m\u001b[0;34m\u001b[0m\u001b[0m\n\u001b[0m\u001b[1;32m      6\u001b[0m         \u001b[0mself\u001b[0m\u001b[0;34m.\u001b[0m\u001b[0mdata\u001b[0m\u001b[0;34m,\u001b[0m \u001b[0mself\u001b[0m\u001b[0;34m.\u001b[0m\u001b[0mslices\u001b[0m \u001b[0;34m=\u001b[0m \u001b[0mtorch\u001b[0m\u001b[0;34m.\u001b[0m\u001b[0mload\u001b[0m\u001b[0;34m(\u001b[0m\u001b[0mself\u001b[0m\u001b[0;34m.\u001b[0m\u001b[0mprocessed_dir\u001b[0m \u001b[0;34m+\u001b[0m \u001b[0;34m'/'\u001b[0m \u001b[0;34m+\u001b[0m \u001b[0;34mf'{split}.pt'\u001b[0m\u001b[0;34m)\u001b[0m\u001b[0;34m\u001b[0m\u001b[0;34m\u001b[0m\u001b[0m\n\u001b[1;32m      7\u001b[0m         \u001b[0mself\u001b[0m\u001b[0;34m.\u001b[0m\u001b[0mupdate\u001b[0m \u001b[0;34m=\u001b[0m \u001b[0mupdate\u001b[0m\u001b[0;34m\u001b[0m\u001b[0;34m\u001b[0m\u001b[0m\n",
      "\u001b[0;31mTypeError\u001b[0m: __init__() takes from 1 to 5 positional arguments but 6 were given"
     ]
    }
   ],
   "source": [
    "root = \"dataset/\" + 'omsk'\n",
    "data_train_raw = geo_Omsk(root, split = 'train')\n",
    "# data_test_raw = geo_Omsk(root, split = 'test')\n",
    "# data_valid_raw = geo_Omsk(root, split = 'val')"
   ]
  },
  {
   "cell_type": "code",
   "execution_count": 15,
   "id": "5a4c1371-fbba-40c7-8f8a-f9b0872a8479",
   "metadata": {},
   "outputs": [
    {
     "data": {
      "text/plain": [
       "Data(edge_attr=[53, 1], edge_index=[2, 53], x=[53, 13], y=[1])"
      ]
     },
     "execution_count": 15,
     "metadata": {},
     "output_type": "execute_result"
    }
   ],
   "source": [
    "data_train_raw[0]"
   ]
  },
  {
   "cell_type": "code",
   "execution_count": 14,
   "id": "43de3775-e538-4f19-a09c-6aa2aef72a05",
   "metadata": {},
   "outputs": [
    {
     "data": {
      "text/plain": [
       "Data(edge_attr=[48, 1], edge_index=[2, 48], x=[48, 13], y=[1])"
      ]
     },
     "execution_count": 14,
     "metadata": {},
     "output_type": "execute_result"
    }
   ],
   "source": [
    "data_test_raw[0]"
   ]
  },
  {
   "cell_type": "code",
   "execution_count": 16,
   "id": "d1663c6d-f5c6-405f-b870-75b14cc78b20",
   "metadata": {},
   "outputs": [
    {
     "data": {
      "text/plain": [
       "Data(edge_attr=[31, 1], edge_index=[2, 31], x=[31, 13], y=[1])"
      ]
     },
     "execution_count": 16,
     "metadata": {},
     "output_type": "execute_result"
    }
   ],
   "source": [
    "data_valid_raw[0]"
   ]
  },
  {
   "cell_type": "code",
   "execution_count": 13,
   "id": "1936ad47-de9b-4dad-a7fe-145d9b87dad1",
   "metadata": {},
   "outputs": [
    {
     "data": {
      "text/plain": [
       "Data(edge_attr=[53, 1], edge_index=[2, 53], x=[53, 13], y=[1])"
      ]
     },
     "execution_count": 13,
     "metadata": {},
     "output_type": "execute_result"
    }
   ],
   "source": [
    "data_train_raw[0]"
   ]
  },
  {
   "cell_type": "code",
   "execution_count": null,
   "id": "e81bc755-5106-4154-b12a-14506dfc4715",
   "metadata": {},
   "outputs": [],
   "source": []
  }
 ],
 "metadata": {
  "kernelspec": {
   "display_name": "Python 3 (ipykernel)",
   "language": "python",
   "name": "python3"
  },
  "language_info": {
   "codemirror_mode": {
    "name": "ipython",
    "version": 3
   },
   "file_extension": ".py",
   "mimetype": "text/x-python",
   "name": "python",
   "nbconvert_exporter": "python",
   "pygments_lexer": "ipython3",
   "version": "3.7.12"
  }
 },
 "nbformat": 4,
 "nbformat_minor": 5
}
