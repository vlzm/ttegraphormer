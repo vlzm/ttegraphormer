{
 "cells": [
  {
   "cell_type": "code",
   "execution_count": 46,
   "id": "0fa275b7-7089-4382-9b14-74413011583d",
   "metadata": {},
   "outputs": [
    {
     "data": {
      "text/plain": [
       "'Internal Server Error'"
      ]
     },
     "execution_count": 47,
     "metadata": {},
     "output_type": "execute_result"
    }
   ],
   "source": [
    "import requests\n",
    "from pydantic import BaseModel\n",
    "class Points(BaseModel):\n",
    "    start_lat: float = 55.7809453\n",
    "    start_lon: float = 37.6373427\n",
    "    end_lat: float = 55.6217188\n",
    "    end_lon: float = 37.49859\n",
    "\n",
    "a = Points()\n",
    "body = {\"start_lat\": a.start_lat,\n",
    "                    \"start_lon\": a.start_lon,\n",
    "                    \"end_lat\": a.end_lat,\n",
    "                    \"end_lon\": a.end_lon}\n",
    "body = json.dumps(body)\n",
    "r = requests.post('http://127.0.0.1:2094/get_path', headers = {'Content-Type': 'application/json'}, json = body)\n",
    "r.text"
   ]
  },
  {
   "cell_type": "code",
   "execution_count": 27,
   "id": "1931def9-46a7-40e0-ae22-5f5236893aa9",
   "metadata": {},
   "outputs": [],
   "source": [
    "import json"
   ]
  },
  {
   "cell_type": "code",
   "execution_count": 36,
   "id": "adf13b93-0e3c-451d-a1be-f717c2c19fb5",
   "metadata": {},
   "outputs": [
    {
     "data": {
      "text/plain": [
       "55.7809453"
      ]
     },
     "execution_count": 36,
     "metadata": {},
     "output_type": "execute_result"
    }
   ],
   "source": [
    "a.start_lat"
   ]
  },
  {
   "cell_type": "code",
   "execution_count": 15,
   "id": "f349af82-80be-428f-b5fa-4f6a6ff0c896",
   "metadata": {},
   "outputs": [
    {
     "data": {
      "text/plain": [
       "Points(start_lat=55.7809453, start_lon=37.6373427, end_lat=55.6217188, end_lon=37.49859)"
      ]
     },
     "execution_count": 15,
     "metadata": {},
     "output_type": "execute_result"
    }
   ],
   "source": [
    "\"start_lat\": coords[0][0],\n",
    "                    \"start_lon\": coords[0][1],\n",
    "                    \"end_lat\": coords[1][0],\n",
    "                    \"end_lon\": coords[1][1],"
   ]
  },
  {
   "cell_type": "code",
   "execution_count": null,
   "id": "dd21f765-e146-43d0-8412-b757bd6de539",
   "metadata": {},
   "outputs": [],
   "source": [
    "fetch(\"http://127.0.0.1:2094/get_path\", {\n",
    "                method: 'POST', headers: {\n",
    "                    'Content-Type': 'application/json'\n",
    "                },\n",
    "                body: JSON.stringify({\n",
    "                    \"start_lat\": coords[0][0],\n",
    "                    \"start_lon\": coords[0][1],\n",
    "                    \"end_lat\": coords[1][0],\n",
    "                    \"end_lon\": coords[1][1],\n",
    "                    \"type\": last_input\n",
    "                })"
   ]
  },
  {
   "cell_type": "code",
   "execution_count": 17,
   "id": "ee8058c3-3ed0-405d-bf33-9ec315a0b915",
   "metadata": {},
   "outputs": [
    {
     "ename": "TypeError",
     "evalue": "'Points' object is not subscriptable",
     "output_type": "error",
     "traceback": [
      "\u001b[0;31m---------------------------------------------------------------------------\u001b[0m",
      "\u001b[0;31mTypeError\u001b[0m                                 Traceback (most recent call last)",
      "\u001b[0;32m/tmp/ipykernel_7261/1258311651.py\u001b[0m in \u001b[0;36m<module>\u001b[0;34m\u001b[0m\n\u001b[0;32m----> 1\u001b[0;31m \u001b[0ma\u001b[0m\u001b[0;34m[\u001b[0m\u001b[0;36m0\u001b[0m\u001b[0;34m]\u001b[0m\u001b[0;34m[\u001b[0m\u001b[0;36m0\u001b[0m\u001b[0;34m]\u001b[0m\u001b[0;34m\u001b[0m\u001b[0;34m\u001b[0m\u001b[0m\n\u001b[0m",
      "\u001b[0;31mTypeError\u001b[0m: 'Points' object is not subscriptable"
     ]
    }
   ],
   "source": [
    "a[0][0]"
   ]
  },
  {
   "cell_type": "code",
   "execution_count": 19,
   "id": "9b775b59-f402-4279-a840-68ba8dca3dcb",
   "metadata": {},
   "outputs": [
    {
     "data": {
      "text/plain": [
       "55.7809453"
      ]
     },
     "execution_count": 19,
     "metadata": {},
     "output_type": "execute_result"
    }
   ],
   "source": [
    "a.start_lat"
   ]
  },
  {
   "cell_type": "code",
   "execution_count": null,
   "id": "92c33a83-0dd4-4a65-aa8d-7188349c1da3",
   "metadata": {},
   "outputs": [],
   "source": []
  }
 ],
 "metadata": {
  "kernelspec": {
   "display_name": "Python 3 (ipykernel)",
   "language": "python",
   "name": "python3"
  },
  "language_info": {
   "codemirror_mode": {
    "name": "ipython",
    "version": 3
   },
   "file_extension": ".py",
   "mimetype": "text/x-python",
   "name": "python",
   "nbconvert_exporter": "python",
   "pygments_lexer": "ipython3",
   "version": "3.7.12"
  }
 },
 "nbformat": 4,
 "nbformat_minor": 5
}
